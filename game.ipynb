{
 "cells": [
  {
   "cell_type": "code",
   "execution_count": 46,
   "metadata": {},
   "outputs": [],
   "source": [
    "import cv2\n",
    "import numpy as np\n",
    "import matplotlib.pyplot as plt\n",
    "import keyboard"
   ]
  },
  {
   "cell_type": "code",
   "execution_count": 47,
   "metadata": {},
   "outputs": [],
   "source": [
    "hand_cascade = cv2.CascadeClassifier('rpalm.xml')"
   ]
  },
  {
   "cell_type": "code",
   "execution_count": 58,
   "metadata": {},
   "outputs": [],
   "source": [
    "cap = cv2.VideoCapture(0)"
   ]
  },
  {
   "cell_type": "code",
   "execution_count": 59,
   "metadata": {},
   "outputs": [],
   "source": [
    "while True:\n",
    "    ret, img = cap.read()\n",
    "    img=cv2.resize(img,(1200,800))\n",
    "    img=cv2.flip(img,1)\n",
    "    font = cv2.FONT_HERSHEY_SIMPLEX\n",
    "    cv2.rectangle(img, (0,0), (400, 400), (0,0,255), 4)\n",
    "    cv2.putText(img,'Break',(0,400), font, 2,(0,0,255),4)\n",
    "    cv2.rectangle(img, (800, 400), (1200, 800), (0,0,255), 4) \n",
    "    cv2.putText(img,'Gas',(800,400), font, 2,(0,0,255),4)\n",
    "    gray = cv2.cvtColor(img, cv2.COLOR_BGR2GRAY)\n",
    "    break_box=gray[400:800,0:400]\n",
    "    acc_box=gray[400:800,800:1200]\n",
    "    acc_box=cv2.flip(acc_box,1)\n",
    "    break_true = len(hand_cascade.detectMultiScale(break_box, 1.1, 2))>0\n",
    "    acc_true = len(hand_cascade.detectMultiScale(acc_box, 1.1, 2))>0\n",
    "    if break_true:\n",
    "        cv2.rectangle(img, (0,400), (400, 800), (0,255,0), 4)\n",
    "        cv2.putText(img,'Break',(0,400), font, 2,(0,255,0),4)\n",
    "        keyboard.press('Left Arrow')\n",
    "    else:\n",
    "        keyboard.release('Left Arrow')\n",
    "    if acc_true:\n",
    "        cv2.rectangle(img, (800,400), (1200, 800), (0,255,0), 4)\n",
    "        cv2.putText(img,'Gas',(800,400), font, 2,(0,255,0),4)\n",
    "        keyboard.press('Right Arrow')\n",
    "    else:\n",
    "        keyboard.release('Right Arrow')\n",
    "    img=cv2.resize(img,(400,300))\n",
    "    cv2.imshow('game',img)\n",
    "    # Stop if escape key is pressed\n",
    "    k = cv2.waitKey(30) & 0xff\n",
    "    if k==27:\n",
    "        break\n",
    "cap.release()\n",
    "cv2.destroyAllWindows()"
   ]
  },
  {
   "cell_type": "code",
   "execution_count": 38,
   "metadata": {},
   "outputs": [],
   "source": []
  },
  {
   "cell_type": "code",
   "execution_count": null,
   "metadata": {},
   "outputs": [],
   "source": []
  },
  {
   "cell_type": "code",
   "execution_count": null,
   "metadata": {},
   "outputs": [],
   "source": []
  },
  {
   "cell_type": "code",
   "execution_count": 127,
   "metadata": {},
   "outputs": [],
   "source": []
  },
  {
   "cell_type": "code",
   "execution_count": 128,
   "metadata": {},
   "outputs": [],
   "source": []
  },
  {
   "cell_type": "code",
   "execution_count": 140,
   "metadata": {},
   "outputs": [
    {
     "data": {
      "text/plain": [
       "array([[[ 88,  85,  81],\n",
       "        [ 85,  80,  77],\n",
       "        [ 90,  81,  81],\n",
       "        ...,\n",
       "        [255, 251, 255],\n",
       "        [255, 251, 255],\n",
       "        [255, 251, 255]],\n",
       "\n",
       "       [[ 86,  83,  79],\n",
       "        [ 86,  81,  80],\n",
       "        [ 93,  84,  84],\n",
       "        ...,\n",
       "        [255, 251, 255],\n",
       "        [255, 251, 255],\n",
       "        [255, 251, 255]],\n",
       "\n",
       "       [[ 85,  81,  79],\n",
       "        [ 86,  80,  81],\n",
       "        [ 92,  83,  84],\n",
       "        ...,\n",
       "        [255, 251, 255],\n",
       "        [255, 251, 255],\n",
       "        [255, 251, 255]],\n",
       "\n",
       "       ...,\n",
       "\n",
       "       [[  0, 255,   0],\n",
       "        [  0, 255,   0],\n",
       "        [  0, 255,   0],\n",
       "        ...,\n",
       "        [ 74,  99,  98],\n",
       "        [  0, 255,   0],\n",
       "        [  0, 255,   0]],\n",
       "\n",
       "       [[  0, 255,   0],\n",
       "        [  0, 255,   0],\n",
       "        [  0, 255,   0],\n",
       "        ...,\n",
       "        [  0, 255,   0],\n",
       "        [  0, 255,   0],\n",
       "        [  0, 255,   0]],\n",
       "\n",
       "       [[  0, 255,   0],\n",
       "        [  0, 255,   0],\n",
       "        [  0, 255,   0],\n",
       "        ...,\n",
       "        [  0, 255,   0],\n",
       "        [  0, 255,   0],\n",
       "        [  0, 255,   0]]], dtype=uint8)"
      ]
     },
     "execution_count": 140,
     "metadata": {},
     "output_type": "execute_result"
    }
   ],
   "source": []
  },
  {
   "cell_type": "code",
   "execution_count": null,
   "metadata": {},
   "outputs": [],
   "source": []
  },
  {
   "cell_type": "code",
   "execution_count": null,
   "metadata": {},
   "outputs": [],
   "source": []
  },
  {
   "cell_type": "code",
   "execution_count": null,
   "metadata": {},
   "outputs": [],
   "source": []
  },
  {
   "cell_type": "code",
   "execution_count": null,
   "metadata": {},
   "outputs": [],
   "source": []
  },
  {
   "cell_type": "code",
   "execution_count": null,
   "metadata": {},
   "outputs": [],
   "source": []
  },
  {
   "cell_type": "code",
   "execution_count": null,
   "metadata": {},
   "outputs": [],
   "source": []
  },
  {
   "cell_type": "code",
   "execution_count": null,
   "metadata": {},
   "outputs": [],
   "source": []
  },
  {
   "cell_type": "code",
   "execution_count": null,
   "metadata": {},
   "outputs": [],
   "source": []
  },
  {
   "cell_type": "code",
   "execution_count": null,
   "metadata": {},
   "outputs": [],
   "source": []
  },
  {
   "cell_type": "code",
   "execution_count": null,
   "metadata": {},
   "outputs": [],
   "source": []
  }
 ],
 "metadata": {
  "kernelspec": {
   "display_name": "Python 3",
   "language": "python",
   "name": "python3"
  },
  "language_info": {
   "codemirror_mode": {
    "name": "ipython",
    "version": 3
   },
   "file_extension": ".py",
   "mimetype": "text/x-python",
   "name": "python",
   "nbconvert_exporter": "python",
   "pygments_lexer": "ipython3",
   "version": "3.7.6"
  }
 },
 "nbformat": 4,
 "nbformat_minor": 4
}
